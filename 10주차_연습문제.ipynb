{
  "nbformat": 4,
  "nbformat_minor": 0,
  "metadata": {
    "colab": {
      "provenance": [],
      "authorship_tag": "ABX9TyNqPznTWGMWBTDZXWCLJLj/",
      "include_colab_link": true
    },
    "kernelspec": {
      "name": "python3",
      "display_name": "Python 3"
    },
    "language_info": {
      "name": "python"
    }
  },
  "cells": [
    {
      "cell_type": "markdown",
      "metadata": {
        "id": "view-in-github",
        "colab_type": "text"
      },
      "source": [
        "<a href=\"https://colab.research.google.com/github/hwaraha/Chapter-9/blob/main/10%E1%84%8C%E1%85%AE%E1%84%8E%E1%85%A1_%E1%84%8B%E1%85%A7%E1%86%AB%E1%84%89%E1%85%B3%E1%86%B8%E1%84%86%E1%85%AE%E1%86%AB%E1%84%8C%E1%85%A6.ipynb\" target=\"_parent\"><img src=\"https://colab.research.google.com/assets/colab-badge.svg\" alt=\"Open In Colab\"/></a>"
      ]
    },
    {
      "cell_type": "code",
      "execution_count": 7,
      "metadata": {
        "colab": {
          "base_uri": "https://localhost:8080/"
        },
        "id": "vjFYjWIxyLe0",
        "outputId": "3261da77-9991-43c5-976c-7f2dc133c942"
      },
      "outputs": [
        {
          "output_type": "stream",
          "name": "stdout",
          "text": [
            "이름은 Mango이고, 나이는 3살 입니다.\n"
          ]
        }
      ],
      "source": [
        "#1\n",
        "class dog:\n",
        "  def __init__(self, name, age):\n",
        "    self.name = name\n",
        "    self.age = age\n",
        "  def __str__(self):\n",
        "    return('이름은 {}이고, 나이는 {}살 입니다.'.format(self.name, self.age))\n",
        "  \n",
        "my_dog = dog('Mango', 3)\n",
        "print(my_dog)\n",
        "  "
      ]
    },
    {
      "cell_type": "code",
      "source": [
        "#2\n",
        "class Counter:\n",
        "  def __init__(self, x):\n",
        "    self.x = x\n",
        "  def __add__(self, other):\n",
        "    return Counter(self.x + other.x)\n",
        "  def __sub__(self, other):\n",
        "    return Counter(self.x - other.x)\n",
        "  def __str__(self):\n",
        "    return\"C({})\".format(self.x)\n",
        "\n",
        "\n",
        "c1 = Counter(10)\n",
        "c2 = Counter(20)\n",
        "c3 = c1 + c2\n",
        "c4 = c1 - c2\n",
        "print('c3=', c3)\n",
        "print('c4=', c4)\n",
        "\n",
        "\n"
      ],
      "metadata": {
        "colab": {
          "base_uri": "https://localhost:8080/"
        },
        "id": "QaQfziSr1--a",
        "outputId": "4e2c7c58-b75d-4229-e105-d851f0cf43c5"
      },
      "execution_count": 126,
      "outputs": [
        {
          "output_type": "stream",
          "name": "stdout",
          "text": [
            "c3= C(30)\n",
            "c4= C(-10)\n"
          ]
        }
      ]
    },
    {
      "cell_type": "code",
      "source": [
        "#3\n",
        "class BankAccount:\n",
        "  def __init__(self):\n",
        "    self.balance = 0\n",
        "    print('홍길동의 계좌 1234-0001의 잔고는 {}원입니다.'.format(self.balance))\n",
        " \n",
        "  def deposit(self, amount):\n",
        "        self.amount = amount\n",
        "        self.balance += amount\n",
        "        print(\"{}원이 입금되었습니다. 잔고는 {}원입니다.\".format(self.amount, self.balance))\n",
        "        print('홍길동의 계좌 1234-0001의 잔고는 {}원입니다.'.format(self.balance))\n",
        "\n",
        "  def withdraw(self, amount):\n",
        "        self.amount = amount\n",
        "        if self.balance>= self.amount:\n",
        "            self.balance-= self.amount\n",
        "            print('홍길동의 계좌 1234-0001의 잔고는 {}원입니다.'.format(self.balance))\n",
        " \n",
        "        else:\n",
        "            print('계좌 잔고는 {}원으로 인출 요구 금액 {}보다 작습니다.'.format(self.balance, self.amount))\n",
        "\n",
        "account1 = BankAccount()\n",
        "account1.deposit(2000)\n",
        "account1.withdraw(500)\n",
        "account1.withdraw(5000)\n",
        "\n"
      ],
      "metadata": {
        "colab": {
          "base_uri": "https://localhost:8080/"
        },
        "id": "xM_6p4LXT0Fk",
        "outputId": "8a1e42db-f679-46ca-954d-ab6f8a2b71d6"
      },
      "execution_count": 80,
      "outputs": [
        {
          "output_type": "stream",
          "name": "stdout",
          "text": [
            "홍길동의 계좌 1234-0001의 잔고는 0원입니다.\n",
            "2000원이 입금되었습니다. 잔고는 2000원입니다.\n",
            "홍길동의 계좌 1234-0001의 잔고는 2000원입니다.\n",
            "홍길동의 계좌 1234-0001의 잔고는 1500원입니다.\n",
            "계좌 잔고는 1500원으로 인출 요구 금액 5000보다 작습니다.\n"
          ]
        }
      ]
    },
    {
      "cell_type": "code",
      "source": [
        "#6\n",
        "class Rectangle:\n",
        "  def __init__(self, x, y, width, height):\n",
        "    self.x = x\n",
        "    self.y = y\n",
        "    self.width = width\n",
        "    self.height = height\n",
        "  def __str__(self):\n",
        "    return('Rectangle : (x = {}, y = {}, h = {}), 면적: {})'.format(self.x,self.y,self.height,self.width * self.height))\n",
        "  def contains(r1, r2):\n",
        "    if r1 == r2:\n",
        "      return True\n",
        "\n",
        "  def overlaps(r1, r2):\n",
        "    if r1 != r2:\n",
        "      return True\n",
        "r1 = Rectangle(0,0,100,100)\n",
        "r2 = Rectangle(0,-10,10,10)\n",
        "r3 = Rectangle(-100,0,120,100)\n",
        "print('r1 =', r1)\n",
        "print('r2 =', r2)\n",
        "print('r3 =', r3)\n",
        "\n",
        "print('r1 contains r2 : ', r1.contains(r2))\n",
        "print('r1 contains r3 : ', r1.contains(r3))\n",
        "print('r1 overlaps r2 : ', r1.overlaps(r2))\n",
        "print('r1 overlaps r3 : ', r1.overlaps(r3))"
      ],
      "metadata": {
        "colab": {
          "base_uri": "https://localhost:8080/"
        },
        "id": "hfHUXtbHBrSK",
        "outputId": "d3a05b6d-a81b-4781-d2f3-78ca099ddc0b"
      },
      "execution_count": 147,
      "outputs": [
        {
          "output_type": "stream",
          "name": "stdout",
          "text": [
            "r1 = Rectangle : (x = 0, y = 0, h = 100), 면적: 10000)\n",
            "r2 = Rectangle : (x = 0, y = -10, h = 10), 면적: 100)\n",
            "r3 = Rectangle : (x = -100, y = 0, h = 100), 면적: 12000)\n",
            "r1 contains r2 :  None\n",
            "r1 contains r3 :  None\n",
            "r1 overlaps r2 :  True\n",
            "r1 overlaps r3 :  True\n"
          ]
        }
      ]
    },
    {
      "cell_type": "code",
      "source": [
        "#7\n",
        "class Circle:\n",
        "  PI = 3.14\n",
        "  def __init__(self, x, y, radius):\n",
        "    self.x = x\n",
        "    self.y = y\n",
        "    self.radius = radius\n",
        "  def __str__(self):\n",
        "    return('Circle : (x = {}, y = {}, r = {}), 면적: {})'.format(self.x,self.y,self.radius, Circle.PI *self.radius**2))\n",
        "  def contains(self, c1,c2):\n",
        "      if (self.x)^2 + (self.y)^2 <= (self.r)^2:\n",
        "        return True\n",
        "      else:\n",
        "        return False\n",
        "  def contains(c1, c2):\n",
        "        return True\n",
        "  def overlaps(c1, c2):\n",
        "        return True\n",
        "          \n",
        "    \n",
        "c1 = Circle(0,0,100)\n",
        "c2 = Circle(0,-10,10)\n",
        "c3 = Circle(-100,0,120)\n",
        "print('c1 =', c1)\n",
        "print('c2 =', c2)\n",
        "print('c3 =', c3)\n",
        "\n",
        "print('c1 contains c2 : ', c1.contains(c2))\n",
        "print('c1 contains c3 : ', c1.contains(c3))\n",
        "print('c1 overlaps c2 : ', c1.overlaps(c2))\n",
        "print('c1 overlaps c3 : ', c1.overlaps(c3))\n",
        "\n"
      ],
      "metadata": {
        "colab": {
          "base_uri": "https://localhost:8080/"
        },
        "id": "uQvaUIfNJ0G1",
        "outputId": "54277ea8-b16e-46f9-ef28-1b012576ef65"
      },
      "execution_count": 136,
      "outputs": [
        {
          "output_type": "stream",
          "name": "stdout",
          "text": [
            "c1 = Circle : (x = 0, y = 0, r = 100), 면적: 31400.0)\n",
            "c2 = Circle : (x = 0, y = -10, r = 10), 면적: 314.0)\n",
            "c3 = Circle : (x = -100, y = 0, r = 120), 면적: 45216.0)\n",
            "c1 contains c2 :  True\n",
            "c1 contains c3 :  True\n",
            "c1 overlaps c2 :  True\n",
            "c1 overlaps c3 :  True\n"
          ]
        }
      ]
    }
  ]
}