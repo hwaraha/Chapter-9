{
  "nbformat": 4,
  "nbformat_minor": 0,
  "metadata": {
    "colab": {
      "provenance": [],
      "authorship_tag": "ABX9TyPqNluAFw9HtUJ6r8U5AyrL",
      "include_colab_link": true
    },
    "kernelspec": {
      "name": "python3",
      "display_name": "Python 3"
    },
    "language_info": {
      "name": "python"
    }
  },
  "cells": [
    {
      "cell_type": "markdown",
      "metadata": {
        "id": "view-in-github",
        "colab_type": "text"
      },
      "source": [
        "<a href=\"https://colab.research.google.com/github/hwaraha/Chapter-9/blob/main/LAB_9.ipynb\" target=\"_parent\"><img src=\"https://colab.research.google.com/assets/colab-badge.svg\" alt=\"Open In Colab\"/></a>"
      ]
    },
    {
      "cell_type": "markdown",
      "source": [
        "LAB 9-1"
      ],
      "metadata": {
        "id": "68somv2YMIWP"
      }
    },
    {
      "cell_type": "markdown",
      "source": [
        "1. a)100\n",
        "b)20000\n",
        "c)2\n",
        "2. 40"
      ],
      "metadata": {
        "id": "w5QWKvVEJCxe"
      }
    },
    {
      "cell_type": "code",
      "source": [
        "dir(int)"
      ],
      "metadata": {
        "id": "hwhLqPQbJU7Q"
      },
      "execution_count": null,
      "outputs": []
    },
    {
      "cell_type": "code",
      "source": [
        "dir(list)"
      ],
      "metadata": {
        "id": "xNi52FcyJW4j"
      },
      "execution_count": null,
      "outputs": []
    },
    {
      "cell_type": "markdown",
      "source": [
        "LAB 9-2\n",
        "1. \n",
        "a) Procedural Programming\n",
        "b) OOP (obeject Oriented Programming)\n",
        "c) Graphic user interface\n",
        "\n",
        "2.\n",
        "By giving an example af a bank:\n",
        "Procedural Programming is the transfer or deposit or withdraw or any operation(aka method in python)\n",
        "\n",
        "Object Oreinted Programming is the customer, money, account(aka property)\n"
      ],
      "metadata": {
        "id": "s4jLqK3dMSRW"
      }
    },
    {
      "cell_type": "markdown",
      "source": [
        "LAB 9-3\n",
        "\n",
        "1.\n",
        "a) class\n",
        "b) object\n",
        "c) instance\n",
        "d) class property\n",
        "e) class method"
      ],
      "metadata": {
        "id": "W9LkcRBxMR0H"
      }
    },
    {
      "cell_type": "code",
      "source": [
        "#LAB 9-4\n",
        "class Dog:\n",
        "  def bark(self):\n",
        "    print(\"멍멍~~\")\n",
        "my_dog = Dog()\n",
        "my_dog.bark()"
      ],
      "metadata": {
        "id": "e-eqDy7zS8sT"
      },
      "execution_count": null,
      "outputs": []
    },
    {
      "cell_type": "code",
      "source": [
        "#LAB 9-5\n",
        "class Dog:\n",
        "  def __init__(self,name):\n",
        "    self.name= name\n",
        "  def bark(self):\n",
        "    print(\"my name is {},멍멍~~\".format(self.name))\n",
        "\n",
        "my_dog = Dog('Jindo')\n",
        "my_dog.bark()\n"
      ],
      "metadata": {
        "id": "mRbOJVVgVx46"
      },
      "execution_count": null,
      "outputs": []
    },
    {
      "cell_type": "code",
      "source": [
        "#LAB 9-6\n",
        "class Dog:\n",
        "  def __init__(self, name):\n",
        "    self.name = name\n",
        "  def __str__(self):\n",
        "      return'Dog(name='+self.name+')'\n",
        "\n",
        "my_dog = Dog('Jindo')\n",
        "print(my_dog)"
      ],
      "metadata": {
        "id": "jQhZdCW9YgbA"
      },
      "execution_count": null,
      "outputs": []
    },
    {
      "cell_type": "code",
      "source": [
        "#LAB 9-7\n",
        "n = 100\n",
        "m = 100\n",
        "if n is m:\n",
        "  print('n is m')\n",
        "else:\n",
        "  print('n is not m')"
      ],
      "metadata": {
        "colab": {
          "base_uri": "https://localhost:8080/"
        },
        "id": "FKGcWWWxeP83",
        "outputId": "cc1c9022-8bbe-457f-9f53-69b7423de5ad"
      },
      "execution_count": 13,
      "outputs": [
        {
          "output_type": "stream",
          "name": "stdout",
          "text": [
            "n is m\n"
          ]
        }
      ]
    },
    {
      "cell_type": "markdown",
      "source": [
        "LAB 9-7\n",
        "\n",
        "n is m\n",
        "\n",
        "Since Integer is immutable, instance saves its content in same place with same id, which makes the two instances(n, m) the same."
      ],
      "metadata": {
        "id": "-2XTZTQbegTh"
      }
    },
    {
      "cell_type": "code",
      "source": [
        "#LAB 9-8\n",
        "#1 and 2\n",
        "class Vector2D:\n",
        "  def __init__(self, x, y):\n",
        "    self.x = x\n",
        "    self.y = y\n",
        "  def __mul__(self, other):\n",
        "    return Vector2D(self.x * other.x, self.y * other.y)\n",
        "  def __truediv__(self, other):\n",
        "    return Vector2D(self.x / other.x, self.y / other.y)\n",
        "  def __neg__(self):\n",
        "    return Vector2D(-self.x, -self.y)\n",
        "  def __str__(self):\n",
        "    return\"({},{})\".format(self.x, self.y)\n",
        " \n",
        "\n",
        "v1 = Vector2D(30, 40)\n",
        "v2 = Vector2D(10, 20)\n",
        "v3 = v1 * v2\n",
        "print('v1 * v2 =', v3)\n",
        "v4 = v1 / v2\n",
        "print('v1 / v2 =', v4)\n",
        "v1 = Vector2D(10, 20)\n",
        "print('-v1 = ', -v1)\n",
        "\n"
      ],
      "metadata": {
        "colab": {
          "base_uri": "https://localhost:8080/"
        },
        "id": "u1-T-ng7hs12",
        "outputId": "8b9b3e80-779e-40da-bcc8-78ffad2e3f13"
      },
      "execution_count": 21,
      "outputs": [
        {
          "output_type": "stream",
          "name": "stdout",
          "text": [
            "v1 * v2 = (300,800)\n",
            "v1 / v2 = (3.0,2.0)\n",
            "-v1 =  (-10,-20)\n"
          ]
        }
      ]
    },
    {
      "cell_type": "code",
      "source": [
        "#LAB 9-9\n",
        "class Vector2D:\n",
        "  def __init__(self, x):\n",
        "    self.x, self.y = x, y\n",
        "  def __gt__(self, other):\n",
        "    return Vector2D(self.x > other.x, self.y > other.y)\n",
        "  def __ge__(self, other):\n",
        "    return Vector2D(self.x >= other.x, self.y > other.y)\n",
        "  def __lt__(self, other):\n",
        "    return Vector2D(self.x < other.x, self.y > other.y)\n",
        "  def __le__(self, other):\n",
        "    return Vector2D(self.x <= other.x, self.y > other.y)\n",
        "  def __str__(self):\n",
        "    return \"({}, {})\".format(self.x, self.y)\n",
        "  \n",
        " \n",
        "v1 = (30, 40)\n",
        "v2 = (10, 20)\n",
        "print('v1 > v2 =', v1>v2)\n",
        "print('v1 >= v2 =', v1>=v2)\n",
        "print('v1 < v2 =', v1<v2)\n",
        "print('v1 <= v2 =', v1<=v2)"
      ],
      "metadata": {
        "colab": {
          "base_uri": "https://localhost:8080/"
        },
        "id": "o1f0p6eIoH2b",
        "outputId": "f657dcac-48b6-404b-e365-7032c4574ac8"
      },
      "execution_count": 24,
      "outputs": [
        {
          "output_type": "stream",
          "name": "stdout",
          "text": [
            "v1 > v2 = True\n",
            "v1 >= v2 = True\n",
            "v1 < v2 = False\n",
            "v1 <= v2 = False\n"
          ]
        }
      ]
    },
    {
      "cell_type": "code",
      "source": [
        "#LAB 9-10\n",
        "class Rect:\n",
        "  def __init__(self, width, height):\n",
        "    self.width = width\n",
        "    self.height = height\n",
        "\n",
        "r1 = Rect(100, 200)\n",
        "print(r1.__dict__)\n",
        "print(r1.__dict__['_Rect__width'])"
      ],
      "metadata": {
        "id": "VIq6ZqLMj8uI"
      },
      "execution_count": null,
      "outputs": []
    },
    {
      "cell_type": "markdown",
      "source": [
        "#LAB 9-10\n",
        "1.\n",
        "\n",
        "{'width': 100, 'height': 200}\n",
        "\n",
        "100\n",
        "\n",
        "2.\n",
        "\n",
        "KeyError: '_Rect__width'\n"
      ],
      "metadata": {
        "id": "ALoGKPjqncll"
      }
    }
  ]
}