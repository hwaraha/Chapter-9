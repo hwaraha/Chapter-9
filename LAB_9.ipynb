{
  "nbformat": 4,
  "nbformat_minor": 0,
  "metadata": {
    "colab": {
      "provenance": [],
      "authorship_tag": "ABX9TyPqNluAFw9HtUJ6r8U5AyrL",
      "include_colab_link": true
    },
    "kernelspec": {
      "name": "python3",
      "display_name": "Python 3"
    },
    "language_info": {
      "name": "python"
    }
  },
  "cells": [
    {
      "cell_type": "markdown",
      "metadata": {
        "id": "view-in-github",
        "colab_type": "text"
      },
      "source": [
        "<a href=\"https://colab.research.google.com/github/hwaraha/Chapter-9/blob/main/LAB_9.ipynb\" target=\"_parent\"><img src=\"https://colab.research.google.com/assets/colab-badge.svg\" alt=\"Open In Colab\"/></a>"
      ]
    },
    {
      "cell_type": "markdown",
      "source": [
        "LAB 9-1"
      ],
      "metadata": {
        "id": "68somv2YMIWP"
      }
    },
    {
      "cell_type": "markdown",
      "source": [
        "1. a)100\n",
        "b)20000\n",
        "c)2\n",
        "2. 40"
      ],
      "metadata": {
        "id": "w5QWKvVEJCxe"
      }
    },
    {
      "cell_type": "code",
      "source": [
        "dir(int)"
      ],
      "metadata": {
        "colab": {
          "base_uri": "https://localhost:8080/"
        },
        "id": "hwhLqPQbJU7Q",
        "outputId": "fdcef78f-1ef8-4081-b1b8-73dad3409385"
      },
      "execution_count": 25,
      "outputs": [
        {
          "output_type": "execute_result",
          "data": {
            "text/plain": [
              "['__abs__',\n",
              " '__add__',\n",
              " '__and__',\n",
              " '__bool__',\n",
              " '__ceil__',\n",
              " '__class__',\n",
              " '__delattr__',\n",
              " '__dir__',\n",
              " '__divmod__',\n",
              " '__doc__',\n",
              " '__eq__',\n",
              " '__float__',\n",
              " '__floor__',\n",
              " '__floordiv__',\n",
              " '__format__',\n",
              " '__ge__',\n",
              " '__getattribute__',\n",
              " '__getnewargs__',\n",
              " '__gt__',\n",
              " '__hash__',\n",
              " '__index__',\n",
              " '__init__',\n",
              " '__init_subclass__',\n",
              " '__int__',\n",
              " '__invert__',\n",
              " '__le__',\n",
              " '__lshift__',\n",
              " '__lt__',\n",
              " '__mod__',\n",
              " '__mul__',\n",
              " '__ne__',\n",
              " '__neg__',\n",
              " '__new__',\n",
              " '__or__',\n",
              " '__pos__',\n",
              " '__pow__',\n",
              " '__radd__',\n",
              " '__rand__',\n",
              " '__rdivmod__',\n",
              " '__reduce__',\n",
              " '__reduce_ex__',\n",
              " '__repr__',\n",
              " '__rfloordiv__',\n",
              " '__rlshift__',\n",
              " '__rmod__',\n",
              " '__rmul__',\n",
              " '__ror__',\n",
              " '__round__',\n",
              " '__rpow__',\n",
              " '__rrshift__',\n",
              " '__rshift__',\n",
              " '__rsub__',\n",
              " '__rtruediv__',\n",
              " '__rxor__',\n",
              " '__setattr__',\n",
              " '__sizeof__',\n",
              " '__str__',\n",
              " '__sub__',\n",
              " '__subclasshook__',\n",
              " '__truediv__',\n",
              " '__trunc__',\n",
              " '__xor__',\n",
              " 'bit_length',\n",
              " 'conjugate',\n",
              " 'denominator',\n",
              " 'from_bytes',\n",
              " 'imag',\n",
              " 'numerator',\n",
              " 'real',\n",
              " 'to_bytes']"
            ]
          },
          "metadata": {},
          "execution_count": 25
        }
      ]
    },
    {
      "cell_type": "code",
      "source": [
        "dir(list)"
      ],
      "metadata": {
        "colab": {
          "base_uri": "https://localhost:8080/"
        },
        "id": "xNi52FcyJW4j",
        "outputId": "5183e3e9-4d2b-4c4c-c7e1-919edba5415b"
      },
      "execution_count": 26,
      "outputs": [
        {
          "output_type": "execute_result",
          "data": {
            "text/plain": [
              "['__add__',\n",
              " '__class__',\n",
              " '__contains__',\n",
              " '__delattr__',\n",
              " '__delitem__',\n",
              " '__dir__',\n",
              " '__doc__',\n",
              " '__eq__',\n",
              " '__format__',\n",
              " '__ge__',\n",
              " '__getattribute__',\n",
              " '__getitem__',\n",
              " '__gt__',\n",
              " '__hash__',\n",
              " '__iadd__',\n",
              " '__imul__',\n",
              " '__init__',\n",
              " '__init_subclass__',\n",
              " '__iter__',\n",
              " '__le__',\n",
              " '__len__',\n",
              " '__lt__',\n",
              " '__mul__',\n",
              " '__ne__',\n",
              " '__new__',\n",
              " '__reduce__',\n",
              " '__reduce_ex__',\n",
              " '__repr__',\n",
              " '__reversed__',\n",
              " '__rmul__',\n",
              " '__setattr__',\n",
              " '__setitem__',\n",
              " '__sizeof__',\n",
              " '__str__',\n",
              " '__subclasshook__',\n",
              " 'append',\n",
              " 'clear',\n",
              " 'copy',\n",
              " 'count',\n",
              " 'extend',\n",
              " 'index',\n",
              " 'insert',\n",
              " 'pop',\n",
              " 'remove',\n",
              " 'reverse',\n",
              " 'sort']"
            ]
          },
          "metadata": {},
          "execution_count": 26
        }
      ]
    },
    {
      "cell_type": "markdown",
      "source": [
        "LAB 9-2\n",
        "1. \n",
        "a) Procedural Programming\n",
        "b) OOP (obeject Oriented Programming)\n",
        "c) Graphic user interface\n",
        "\n",
        "2.\n",
        "By giving an example af a bank:\n",
        "Procedural Programming is the transfer or deposit or withdraw or any operation(aka method in python)\n",
        "\n",
        "Object Oreinted Programming is the customer, money, account(aka property)\n"
      ],
      "metadata": {
        "id": "s4jLqK3dMSRW"
      }
    },
    {
      "cell_type": "markdown",
      "source": [
        "LAB 9-3\n",
        "\n",
        "1.\n",
        "a) class\n",
        "b) object\n",
        "c) instance\n",
        "d) class property\n",
        "e) class method"
      ],
      "metadata": {
        "id": "W9LkcRBxMR0H"
      }
    },
    {
      "cell_type": "code",
      "source": [
        "#LAB 9-4\n",
        "class Dog:\n",
        "  def bark(self):\n",
        "    print(\"멍멍~~\")\n",
        "my_dog = Dog()\n",
        "my_dog.bark()"
      ],
      "metadata": {
        "colab": {
          "base_uri": "https://localhost:8080/"
        },
        "id": "e-eqDy7zS8sT",
        "outputId": "92b62422-e0ee-444e-94a8-22656a8b48d5"
      },
      "execution_count": 30,
      "outputs": [
        {
          "output_type": "stream",
          "name": "stdout",
          "text": [
            "멍멍~~\n"
          ]
        }
      ]
    },
    {
      "cell_type": "code",
      "source": [
        "#LAB 9-5\n",
        "class Dog:\n",
        "  def __init__(self,name):\n",
        "    self.name= name\n",
        "  def bark(self):\n",
        "    print(\"my name is {},멍멍~~\".format(self.name))\n",
        "\n",
        "my_dog = Dog('Jindo')\n",
        "my_dog.bark()\n"
      ],
      "metadata": {
        "colab": {
          "base_uri": "https://localhost:8080/"
        },
        "id": "mRbOJVVgVx46",
        "outputId": "5f365018-9915-4735-a8fc-907f46145119"
      },
      "execution_count": 29,
      "outputs": [
        {
          "output_type": "stream",
          "name": "stdout",
          "text": [
            "my name is Jindo,멍멍~~\n"
          ]
        }
      ]
    },
    {
      "cell_type": "code",
      "source": [
        "#LAB 9-6\n",
        "class Dog:\n",
        "  def __init__(self, name):\n",
        "    self.name = name\n",
        "  def __str__(self):\n",
        "      return'Dog(name='+self.name+')'\n",
        "\n",
        "my_dog = Dog('Jindo')\n",
        "print(my_dog)"
      ],
      "metadata": {
        "colab": {
          "base_uri": "https://localhost:8080/"
        },
        "id": "jQhZdCW9YgbA",
        "outputId": "0fb646f2-672a-4cef-9039-7d567a8811c5"
      },
      "execution_count": 28,
      "outputs": [
        {
          "output_type": "stream",
          "name": "stdout",
          "text": [
            "Dog(name=Jindo)\n"
          ]
        }
      ]
    },
    {
      "cell_type": "code",
      "source": [
        "#LAB 9-7\n",
        "n = 100\n",
        "m = 100\n",
        "if n is m:\n",
        "  print('n is m')\n",
        "else:\n",
        "  print('n is not m')"
      ],
      "metadata": {
        "colab": {
          "base_uri": "https://localhost:8080/"
        },
        "id": "FKGcWWWxeP83",
        "outputId": "cc1c9022-8bbe-457f-9f53-69b7423de5ad"
      },
      "execution_count": 13,
      "outputs": [
        {
          "output_type": "stream",
          "name": "stdout",
          "text": [
            "n is m\n"
          ]
        }
      ]
    },
    {
      "cell_type": "markdown",
      "source": [
        "LAB 9-7\n",
        "\n",
        "n is m\n",
        "\n",
        "Since Integer is immutable, instance saves its content in same place with same id, which makes the two instances(n, m) the same."
      ],
      "metadata": {
        "id": "-2XTZTQbegTh"
      }
    },
    {
      "cell_type": "code",
      "source": [
        "#LAB 9-8\n",
        "#1 and 2\n",
        "class Vector2D:\n",
        "  def __init__(self, x, y):\n",
        "    self.x = x\n",
        "    self.y = y\n",
        "  def __mul__(self, other):\n",
        "    return Vector2D(self.x * other.x, self.y * other.y)\n",
        "  def __truediv__(self, other):\n",
        "    return Vector2D(self.x / other.x, self.y / other.y)\n",
        "  def __neg__(self):\n",
        "    return Vector2D(-self.x, -self.y)\n",
        "  def __str__(self):\n",
        "    return\"({},{})\".format(self.x, self.y)\n",
        " \n",
        "\n",
        "v1 = Vector2D(30, 40)\n",
        "v2 = Vector2D(10, 20)\n",
        "v3 = v1 * v2\n",
        "print('v1 * v2 =', v3)\n",
        "v4 = v1 / v2\n",
        "print('v1 / v2 =', v4)\n",
        "v1 = Vector2D(10, 20)\n",
        "print('-v1 = ', -v1)\n",
        "\n"
      ],
      "metadata": {
        "colab": {
          "base_uri": "https://localhost:8080/"
        },
        "id": "u1-T-ng7hs12",
        "outputId": "8b9b3e80-779e-40da-bcc8-78ffad2e3f13"
      },
      "execution_count": 21,
      "outputs": [
        {
          "output_type": "stream",
          "name": "stdout",
          "text": [
            "v1 * v2 = (300,800)\n",
            "v1 / v2 = (3.0,2.0)\n",
            "-v1 =  (-10,-20)\n"
          ]
        }
      ]
    },
    {
      "cell_type": "code",
      "source": [
        "#LAB 9-9\n",
        "class Vector2D:\n",
        "  def __init__(self, x):\n",
        "    self.x, self.y = x, y\n",
        "  def __gt__(self, other):\n",
        "    return Vector2D(self.x > other.x, self.y > other.y)\n",
        "  def __ge__(self, other):\n",
        "    return Vector2D(self.x >= other.x, self.y > other.y)\n",
        "  def __lt__(self, other):\n",
        "    return Vector2D(self.x < other.x, self.y > other.y)\n",
        "  def __le__(self, other):\n",
        "    return Vector2D(self.x <= other.x, self.y > other.y)\n",
        "  def __str__(self):\n",
        "    return \"({}, {})\".format(self.x, self.y)\n",
        "  \n",
        " \n",
        "v1 = (30, 40)\n",
        "v2 = (10, 20)\n",
        "print('v1 > v2 =', v1>v2)\n",
        "print('v1 >= v2 =', v1>=v2)\n",
        "print('v1 < v2 =', v1<v2)\n",
        "print('v1 <= v2 =', v1<=v2)"
      ],
      "metadata": {
        "colab": {
          "base_uri": "https://localhost:8080/"
        },
        "id": "o1f0p6eIoH2b",
        "outputId": "f657dcac-48b6-404b-e365-7032c4574ac8"
      },
      "execution_count": 24,
      "outputs": [
        {
          "output_type": "stream",
          "name": "stdout",
          "text": [
            "v1 > v2 = True\n",
            "v1 >= v2 = True\n",
            "v1 < v2 = False\n",
            "v1 <= v2 = False\n"
          ]
        }
      ]
    },
    {
      "cell_type": "code",
      "source": [
        "#LAB 9-10\n",
        "class Rect:\n",
        "  def __init__(self, width, height):\n",
        "    self.width = width\n",
        "    self.height = height\n",
        "\n",
        "r1 = Rect(100, 200)\n",
        "print(r1.__dict__)\n",
        "print(r1.__dict__['_Rect__width'])"
      ],
      "metadata": {
        "colab": {
          "base_uri": "https://localhost:8080/",
          "height": 222
        },
        "id": "VIq6ZqLMj8uI",
        "outputId": "ea46138a-5a42-4df0-a54a-08ca7f6c4205"
      },
      "execution_count": 27,
      "outputs": [
        {
          "output_type": "stream",
          "name": "stdout",
          "text": [
            "{'width': 100, 'height': 200}\n"
          ]
        },
        {
          "output_type": "error",
          "ename": "KeyError",
          "evalue": "ignored",
          "traceback": [
            "\u001b[0;31m---------------------------------------------------------------------------\u001b[0m",
            "\u001b[0;31mKeyError\u001b[0m                                  Traceback (most recent call last)",
            "\u001b[0;32m<ipython-input-27-5d65e6441fb8>\u001b[0m in \u001b[0;36m<module>\u001b[0;34m\u001b[0m\n\u001b[1;32m      7\u001b[0m \u001b[0mr1\u001b[0m \u001b[0;34m=\u001b[0m \u001b[0mRect\u001b[0m\u001b[0;34m(\u001b[0m\u001b[0;36m100\u001b[0m\u001b[0;34m,\u001b[0m \u001b[0;36m200\u001b[0m\u001b[0;34m)\u001b[0m\u001b[0;34m\u001b[0m\u001b[0;34m\u001b[0m\u001b[0m\n\u001b[1;32m      8\u001b[0m \u001b[0mprint\u001b[0m\u001b[0;34m(\u001b[0m\u001b[0mr1\u001b[0m\u001b[0;34m.\u001b[0m\u001b[0m__dict__\u001b[0m\u001b[0;34m)\u001b[0m\u001b[0;34m\u001b[0m\u001b[0;34m\u001b[0m\u001b[0m\n\u001b[0;32m----> 9\u001b[0;31m \u001b[0mprint\u001b[0m\u001b[0;34m(\u001b[0m\u001b[0mr1\u001b[0m\u001b[0;34m.\u001b[0m\u001b[0m__dict__\u001b[0m\u001b[0;34m[\u001b[0m\u001b[0;34m'_Rect__width'\u001b[0m\u001b[0;34m]\u001b[0m\u001b[0;34m)\u001b[0m\u001b[0;34m\u001b[0m\u001b[0;34m\u001b[0m\u001b[0m\n\u001b[0m",
            "\u001b[0;31mKeyError\u001b[0m: '_Rect__width'"
          ]
        }
      ]
    },
    {
      "cell_type": "markdown",
      "source": [
        "#LAB 9-10\n",
        "1.\n",
        "\n",
        "{'width': 100, 'height': 200}\n",
        "\n",
        "100\n",
        "\n",
        "2.\n",
        "\n",
        "KeyError: '_Rect__width'\n"
      ],
      "metadata": {
        "id": "ALoGKPjqncll"
      }
    }
  ]
}